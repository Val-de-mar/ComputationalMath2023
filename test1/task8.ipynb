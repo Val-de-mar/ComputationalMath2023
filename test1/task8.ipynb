{
 "cells": [
  {
   "attachments": {},
   "cell_type": "markdown",
   "metadata": {},
   "source": [
    "### Задача 8"
   ]
  },
  {
   "attachments": {},
   "cell_type": "markdown",
   "metadata": {},
   "source": [
    "рассмотрим $\\lambda_{max}$ и $\\lambda_{min}$\n",
    "\n",
    "1. Заметим, что $\\lambda_{max} != \\lambda_{min}$,\n",
    "    - пусть нет: все собственные значения равны $\\lambda$\n",
    "    - так как $\\boldsymbol{A} = \\boldsymbol{A^T}$ матрица линейно факторизуема $\\Rightarrow$ все пространство $L = <\\{\\overline{h_i}\\}>$, где $\\{\\overline{h_i}\\}$ - множество собственных векторов \n",
    "    -  значит $\\forall \\overline{x} \\in L, \\overline{x} = \\sum{\\alpha_i \\overline{h_i}}\\Rightarrow A\\overline{x} = A\\sum{\\alpha_i \\overline{h_i}} = \\sum{\\alpha_i A\\overline{h_i}}=\\sum{\\alpha_i \\lambda\\overline{h_i}} = \\lambda\\sum{\\alpha_i \\overline{h_i}} = \\lambda\\overline{x} \\Rightarrow A = \\lambda E$, противоречие \n",
    "2. тогда заметим что $\\lambda_{max}(A + \\alpha E) = \\lambda_{max} + \\alpha$, а так же $\\lambda_{min}(A + \\alpha E) = \\lambda_{min} + \\alpha$\n",
    "3. $\\mu(A + \\alpha E) = \\frac{\\lambda_{max} + \\alpha}{\\lambda_{min} + \\alpha}$ - монотонно убывает по $\\alpha$ так как  $\\lambda_{max} > \\lambda_{min}$ "
   ]
  }
 ],
 "metadata": {
  "kernelspec": {
   "display_name": "Python 3",
   "language": "python",
   "name": "python3"
  },
  "language_info": {
   "codemirror_mode": {
    "name": "ipython",
    "version": 3
   },
   "file_extension": ".py",
   "mimetype": "text/x-python",
   "name": "python",
   "nbconvert_exporter": "python",
   "pygments_lexer": "ipython3",
   "version": "3.10.9"
  },
  "orig_nbformat": 4
 },
 "nbformat": 4,
 "nbformat_minor": 2
}
