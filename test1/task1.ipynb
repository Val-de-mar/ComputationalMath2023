{
 "cells": [
  {
   "attachments": {},
   "cell_type": "markdown",
   "metadata": {},
   "source": [
    "# КР1"
   ]
  },
  {
   "attachments": {},
   "cell_type": "markdown",
   "metadata": {},
   "source": [
    "### Задача 1"
   ]
  },
  {
   "cell_type": "code",
   "execution_count": 89,
   "metadata": {},
   "outputs": [],
   "source": [
    "import numpy as np\n",
    "from numpy import array as ar\n",
    "# from fractions import Fraction as fr\n",
    "from numpy.polynomial import Polynomial as poly\n",
    "import sympy as sp\n",
    "from sympy import Rational as rat\n",
    "from sympy.abc import x\n",
    "from IPython.display import Math, display"
   ]
  },
  {
   "cell_type": "code",
   "execution_count": 96,
   "metadata": {},
   "outputs": [],
   "source": [
    "X = [-2, -1, 0, 1, 2, 3, 4]\n",
    "f = [-2, 4, 0, -8, -14, -12, 4]\n",
    "delta = [[rat(i) for i in f]]\n",
    "deltan = [f]"
   ]
  },
  {
   "cell_type": "code",
   "execution_count": 97,
   "metadata": {},
   "outputs": [],
   "source": [
    "for i in range(1, len(f)):\n",
    "    dd = delta[-1]\n",
    "    next_delta = [(dd[j] - dd[j-1])/(i * (X[j] - X[j - 1])) for j in range(1, len(dd))]\n",
    "    delta.append(next_delta)\n",
    "    dd = deltan[-1]\n",
    "    next_delta = [(dd[j] - dd[j-1])/(i * (X[j] - X[j - 1])) for j in range(1, len(dd))]\n",
    "    deltan.append(next_delta)"
   ]
  },
  {
   "cell_type": "code",
   "execution_count": 98,
   "metadata": {},
   "outputs": [
    {
     "name": "stdout",
     "output_type": "stream",
     "text": [
      "[-2, 4, 0, -8, -14, -12, 4]\n",
      "[6, -4, -8, -6, 2, 16]\n",
      "[-5, -2, 1, 4, 7]\n",
      "[1, 1, 1, 1]\n",
      "[0, 0, 0]\n",
      "[0, 0]\n",
      "[0]\n"
     ]
    }
   ],
   "source": [
    "for i in delta:\n",
    "    print(\"[\" + \", \".join([f\"{j}\" for j in i]) + \"]\")"
   ]
  },
  {
   "cell_type": "code",
   "execution_count": 99,
   "metadata": {},
   "outputs": [],
   "source": [
    "p = rat(0)\n",
    "for i in range(len(delta)):\n",
    "    val = delta[i][0]\n",
    "    deg = rat(1)\n",
    "    for j in range(i):\n",
    "        deg *= x - X[j]\n",
    "    p += val*deg"
   ]
  },
  {
   "cell_type": "code",
   "execution_count": 100,
   "metadata": {},
   "outputs": [
    {
     "data": {
      "text/latex": [
       "$\\displaystyle x \\left(x + 1\\right) \\left(x + 2\\right) + 6 x - 5 \\left(x + 1\\right) \\left(x + 2\\right) + 10$"
      ],
      "text/plain": [
       "x*(x + 1)*(x + 2) + 6*x - 5*(x + 1)*(x + 2) + 10"
      ]
     },
     "execution_count": 100,
     "metadata": {},
     "output_type": "execute_result"
    }
   ],
   "source": [
    "p"
   ]
  },
  {
   "cell_type": "code",
   "execution_count": 101,
   "metadata": {},
   "outputs": [],
   "source": [
    "pn = poly([0])\n",
    "for i in range(len(delta)):\n",
    "    val = deltan[i][0]\n",
    "    deg = poly([1])\n",
    "    for j in range(i):\n",
    "        deg *= poly([-X[j], 1])\n",
    "        # print(deg)\n",
    "    # print(val, deg, sep=\"\\t\")\n",
    "    pn += val*deg"
   ]
  },
  {
   "cell_type": "code",
   "execution_count": 102,
   "metadata": {},
   "outputs": [
    {
     "data": {
      "text/latex": [
       "$x \\mapsto \\color{LightGray}{\\text{0.0}} - \\text{7.0}\\,x - \\text{2.0}\\,x^{2} + \\text{1.0}\\,x^{3}$"
      ],
      "text/plain": [
       "Polynomial([ 0., -7., -2.,  1.], domain=[-1.,  1.], window=[-1.,  1.], symbol='x')"
      ]
     },
     "execution_count": 102,
     "metadata": {},
     "output_type": "execute_result"
    }
   ],
   "source": [
    "pn"
   ]
  },
  {
   "attachments": {},
   "cell_type": "markdown",
   "metadata": {},
   "source": [
    "в первой точке, используем многочлен вперед:"
   ]
  },
  {
   "cell_type": "code",
   "execution_count": 103,
   "metadata": {},
   "outputs": [],
   "source": [
    "p_ = rat(0)\n",
    "for i in range(1, len(delta)):\n",
    "    val = delta[i][0]\n",
    "    deg = rat(1)\n",
    "    for j in range(1, i):\n",
    "        deg *= x - X[j]\n",
    "    p_ += val*deg\n",
    "\n",
    "pn_ = poly([0])\n",
    "for i in range(1, len(delta)):\n",
    "    val = deltan[i][0]\n",
    "    deg = poly([1])\n",
    "    for j in range(1, i):\n",
    "        deg *= poly([-X[j], 1])\n",
    "        # print(deg)\n",
    "    # print(val, deg, sep=\"\\t\")\n",
    "    pn_ += val*deg"
   ]
  },
  {
   "cell_type": "code",
   "execution_count": 129,
   "metadata": {},
   "outputs": [
    {
     "data": {
      "text/latex": [
       "$\\displaystyle 7 x + \\left(x - 3\\right) \\left(x - 2\\right) - 5$"
      ],
      "text/plain": [
       "7*x + (x - 3)*(x - 2) - 5"
      ]
     },
     "metadata": {},
     "output_type": "display_data"
    },
    {
     "data": {
      "text/latex": [
       "$x \\mapsto \\text{1.0} + \\text{2.0}\\,x + \\text{1.0}\\,x^{2}$"
      ],
      "text/plain": [
       "Polynomial([1., 2., 1.], domain=[-1.,  1.], window=[-1.,  1.], symbol='x')"
      ]
     },
     "metadata": {},
     "output_type": "display_data"
    },
    {
     "data": {
      "text/latex": [
       "$\\displaystyle P'(-2) = 1.0$"
      ],
      "text/plain": [
       "<IPython.core.display.Math object>"
      ]
     },
     "metadata": {},
     "output_type": "display_data"
    }
   ],
   "source": [
    "display(p_)\n",
    "display(pn_)\n",
    "display(Math(f\"$P'({X[0]}) = {pn_(X[0])}$\"))"
   ]
  },
  {
   "attachments": {},
   "cell_type": "markdown",
   "metadata": {},
   "source": [
    "В последней, используем многочлен назад:"
   ]
  },
  {
   "cell_type": "code",
   "execution_count": 128,
   "metadata": {},
   "outputs": [],
   "source": [
    "p_ = rat(0)\n",
    "for i in range(1, len(delta)):\n",
    "    val = delta[i][-1]\n",
    "    deg = rat(1)\n",
    "    for j in range(1, i):\n",
    "        deg *= sp.core.sympify(f\"(x - {X[-j - 1]})\")\n",
    "    #     print(deg)\n",
    "    # print(\"go\", val*deg)\n",
    "    p_ += val*deg\n",
    "    # print(\"val:\",p_)\n",
    "\n",
    "pn_ = poly([0])\n",
    "for i in range(1, len(delta)):\n",
    "    val = deltan[i][-1]\n",
    "    deg = poly([1])\n",
    "    for j in range(1, i):\n",
    "        deg *= poly([-X[-j - 1], 1])\n",
    "        # print(deg)\n",
    "    # print(val, deg, sep=\"\\t\")\n",
    "    pn_ += val*deg"
   ]
  },
  {
   "cell_type": "code",
   "execution_count": 126,
   "metadata": {},
   "outputs": [
    {
     "data": {
      "text/latex": [
       "$\\displaystyle 7 x + \\left(x - 3\\right) \\left(x - 2\\right) - 5$"
      ],
      "text/plain": [
       "7*x + (x - 3)*(x - 2) - 5"
      ]
     },
     "metadata": {},
     "output_type": "display_data"
    },
    {
     "data": {
      "text/latex": [
       "$x \\mapsto \\text{1.0} + \\text{2.0}\\,x + \\text{1.0}\\,x^{2}$"
      ],
      "text/plain": [
       "Polynomial([1., 2., 1.], domain=[-1.,  1.], window=[-1.,  1.], symbol='x')"
      ]
     },
     "metadata": {},
     "output_type": "display_data"
    },
    {
     "data": {
      "text/latex": [
       "$\\displaystyle P'(4) = 25.0$"
      ],
      "text/plain": [
       "<IPython.core.display.Math object>"
      ]
     },
     "metadata": {},
     "output_type": "display_data"
    }
   ],
   "source": [
    "display(p_)\n",
    "display(pn_)\n",
    "display(Math(f\"$P'({X[-1]}) = {pn_(X[-1])}$\"))"
   ]
  }
 ],
 "metadata": {
  "kernelspec": {
   "display_name": ".venv",
   "language": "python",
   "name": "python3"
  },
  "language_info": {
   "codemirror_mode": {
    "name": "ipython",
    "version": 3
   },
   "file_extension": ".py",
   "mimetype": "text/x-python",
   "name": "python",
   "nbconvert_exporter": "python",
   "pygments_lexer": "ipython3",
   "version": "3.10.9"
  },
  "orig_nbformat": 4
 },
 "nbformat": 4,
 "nbformat_minor": 2
}
