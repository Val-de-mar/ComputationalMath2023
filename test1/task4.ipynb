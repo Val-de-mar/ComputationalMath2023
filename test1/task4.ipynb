{
 "cells": [
  {
   "cell_type": "code",
   "execution_count": 41,
   "metadata": {
    "collapsed": true
   },
   "outputs": [],
   "source": [
    "from sympy.matrices import Matrix\n",
    "from sympy import pprint, Rational as rat, solve, symbols"
   ]
  },
  {
   "cell_type": "markdown",
   "source": [
    "Для системы линейных уравнений $Ax = f$ из предыдущей задачи привести вычислительные формулы и выполнить три итерации методов Якоби, Зейделя и верхней релаксации, выбрав итерационный параметр, близкий к оптимальному. Провести три шага вычислений для определения максимального по модулю собственного значения матрицы системы степенным методом, взяв в качестве начального приближения вектор $x$."
   ],
   "metadata": {
    "collapsed": false
   }
  },
  {
   "cell_type": "markdown",
   "source": [
    "Матрица А и вектор f:"
   ],
   "metadata": {
    "collapsed": false
   }
  },
  {
   "cell_type": "code",
   "execution_count": 67,
   "outputs": [
    {
     "data": {
      "text/plain": "Matrix([\n[2],\n[3]])",
      "text/latex": "$\\displaystyle \\left[\\begin{matrix}2\\\\3\\end{matrix}\\right]$"
     },
     "execution_count": 67,
     "metadata": {},
     "output_type": "execute_result"
    }
   ],
   "source": [
    "A = Matrix([[rat(3, 1), rat(1, 1)], [rat(8, 1), rat(5, 1)]])\n",
    "f = Matrix([[rat(2, 1)], [rat(3, 1)]])\n",
    "f"
   ],
   "metadata": {
    "collapsed": false
   }
  },
  {
   "cell_type": "code",
   "execution_count": 25,
   "outputs": [
    {
     "data": {
      "text/plain": "{x: 2/3 - y/3}"
     },
     "execution_count": 25,
     "metadata": {},
     "output_type": "execute_result"
    }
   ],
   "source": [
    "x, y = symbols('x,y')\n",
    "first_row = A.row(0) * Matrix([x, y])\n",
    "second_row = A.row(1) * Matrix([x, y])\n",
    "eq1 = first_row - f.row(0)\n",
    "sol1 = solve(eq1, x)\n",
    "sol1"
   ],
   "metadata": {
    "collapsed": false
   }
  },
  {
   "cell_type": "code",
   "execution_count": 26,
   "outputs": [
    {
     "data": {
      "text/plain": "{y: 3/5 - 8*x/5}"
     },
     "execution_count": 26,
     "metadata": {},
     "output_type": "execute_result"
    }
   ],
   "source": [
    "eq2 = second_row - f.row(1)\n",
    "sol2 = solve(eq2, y)\n",
    "sol2"
   ],
   "metadata": {
    "collapsed": false
   }
  },
  {
   "cell_type": "markdown",
   "source": [
    "Возьмём в качестве начального вектора нулевой и проведём три итерации разными методами:"
   ],
   "metadata": {
    "collapsed": false
   }
  },
  {
   "cell_type": "code",
   "execution_count": 23,
   "outputs": [],
   "source": [
    "x_0 = 0\n",
    "y_0 = 0"
   ],
   "metadata": {
    "collapsed": false
   }
  },
  {
   "cell_type": "markdown",
   "source": [
    "Якоби:\n"
   ],
   "metadata": {
    "collapsed": false
   }
  },
  {
   "cell_type": "code",
   "execution_count": 39,
   "outputs": [
    {
     "name": "stdout",
     "output_type": "stream",
     "text": [
      "(2/3, 3/5)\n",
      "(7/15, -7/15)\n",
      "⎛37  -11 ⎞\n",
      "⎜──, ────⎟\n",
      "⎝45   75 ⎠\n"
     ]
    }
   ],
   "source": [
    "x_1, x_2, y_1 = x_0, x_0, y_0\n",
    "for _ in range(3):\n",
    "    x_1 = solve(eq1.subs({'y' : y_1}), x)[x]\n",
    "    y_1 = solve(eq2.subs({'x' : x_2}), y)[y]\n",
    "    x_2 = x_1\n",
    "    pprint((x_1, y_1))"
   ],
   "metadata": {
    "collapsed": false
   }
  },
  {
   "cell_type": "markdown",
   "source": [
    "Зейдель:"
   ],
   "metadata": {
    "collapsed": false
   }
  },
  {
   "cell_type": "code",
   "execution_count": 40,
   "outputs": [
    {
     "name": "stdout",
     "output_type": "stream",
     "text": [
      "(2/3, -7/15)\n",
      "⎛37  -161 ⎞\n",
      "⎜──, ─────⎟\n",
      "⎝45   225 ⎠\n",
      "⎛611  -2863 ⎞\n",
      "⎜───, ──────⎟\n",
      "⎝675   3375 ⎠\n"
     ]
    }
   ],
   "source": [
    "x_1, y_1,= x_0, y_0\n",
    "for _ in range(3):\n",
    "    x_1 = solve(eq1.subs({'y' : y_1}), x)[x]\n",
    "    y_1 = solve(eq2.subs({'x' : x_1}), y)[y]\n",
    "    pprint((x_1, y_1))"
   ],
   "metadata": {
    "collapsed": false
   }
  },
  {
   "cell_type": "markdown",
   "source": [
    "Система для ПВР:\n",
    "$$\n",
    "x^{k+1} = (1 - \\omega) x^k + \\frac{\\omega}{3} (2 - y^k), \\\\\n",
    "y^{k+1} = (1 - \\omega) y^k + \\frac{\\omega}{5} (3 - 8y^k),\n",
    "$$\n",
    "\n",
    "Теперь найдём оптимальное значение $\\omega = \\frac{2}{1 + \\sqrt{1 - \\lambda ^ 2}}$, где $\\lambda$ -- собственное число матрицы:"
   ],
   "metadata": {
    "collapsed": false
   }
  },
  {
   "cell_type": "code",
   "execution_count": 45,
   "outputs": [
    {
     "data": {
      "text/plain": "{-2*sqrt(30)/15: 1, 2*sqrt(30)/15: 1}"
     },
     "execution_count": 45,
     "metadata": {},
     "output_type": "execute_result"
    }
   ],
   "source": [
    "R = Matrix([[rat(0, 1), rat(-1, 3)], [rat(-8, 5), rat(0, 1)]])\n",
    "R.eigenvals()"
   ],
   "metadata": {
    "collapsed": false
   }
  },
  {
   "cell_type": "code",
   "execution_count": 48,
   "outputs": [
    {
     "data": {
      "text/plain": "8/15",
      "text/latex": "$\\displaystyle \\frac{8}{15}$"
     },
     "execution_count": 48,
     "metadata": {},
     "output_type": "execute_result"
    }
   ],
   "source": [
    "lambda_2 = 1\n",
    "for val in R.eigenvals().keys():\n",
    "    lambda_2 *= val\n",
    "lambda_2 = abs(lambda_2)\n",
    "lambda_2"
   ],
   "metadata": {
    "collapsed": false
   }
  },
  {
   "cell_type": "code",
   "execution_count": 65,
   "outputs": [
    {
     "data": {
      "text/plain": "1.188",
      "text/latex": "$\\displaystyle 1.188$"
     },
     "execution_count": 65,
     "metadata": {},
     "output_type": "execute_result"
    }
   ],
   "source": [
    "w = round(2 / (1 + (1 - lambda_2) ** 0.5), 3)\n",
    "w"
   ],
   "metadata": {
    "collapsed": false
   }
  },
  {
   "cell_type": "code",
   "execution_count": 66,
   "outputs": [
    {
     "name": "stdout",
     "output_type": "stream",
     "text": [
      "(0.792, -0.793)\n",
      "(0.957, -0.957)\n",
      "(1.0, -1.008)\n"
     ]
    }
   ],
   "source": [
    "x_new, y_new = symbols('x_new,y_new')\n",
    "eq3 = x_new - ((1 - w) * x + w / 3 * (2 - y))\n",
    "eq4 = y_new - ((1 - w) * y + w / 5 * (3 - 8 * x))\n",
    "\n",
    "x_1, y_1,= x_0, y_0\n",
    "for _ in range(3):\n",
    "    x_1 = round(solve(eq3.subs({'x': x_1, 'y': y_1}), x_new)[0], 3)\n",
    "    y_1 = round(solve(eq4.subs({'x' : x_1, 'y': y_1}), y_new)[0], 3)\n",
    "    pprint((x_1, y_1))"
   ],
   "metadata": {
    "collapsed": false
   }
  },
  {
   "cell_type": "markdown",
   "source": [
    "Теперь найдём максимальное собственное число по методу Вовы:\n",
    "$r_{k+1} = \\frac{A r_k}{||r_k||}$ - вектор с наибольшим собственным числом, затем получим само число $\\lambda_{max} = \\frac{r^T A r}{r^T r}$."
   ],
   "metadata": {
    "collapsed": false
   }
  },
  {
   "cell_type": "code",
   "execution_count": 73,
   "outputs": [
    {
     "name": "stdout",
     "output_type": "stream",
     "text": [
      "⎡2.83⎤\n",
      "⎢    ⎥\n",
      "⎣9.19⎦\n",
      "\n",
      "⎡1.84⎤\n",
      "⎢    ⎥\n",
      "⎣7.13⎦\n",
      "\n",
      "⎡1.72⎤\n",
      "⎢    ⎥\n",
      "⎣6.84⎦\n",
      "\n"
     ]
    }
   ],
   "source": [
    "r = Matrix([rat(1, 1), rat(1, 1)])\n",
    "for _ in range(3):\n",
    "    r = (A * r / (r.dot(r)) ** 0.5).evalf(3)\n",
    "    pprint(r)\n",
    "    print()"
   ],
   "metadata": {
    "collapsed": false
   }
  },
  {
   "cell_type": "code",
   "execution_count": 76,
   "outputs": [
    {
     "data": {
      "text/plain": "Matrix([[7.01]])",
      "text/latex": "$\\displaystyle \\left[\\begin{matrix}7.01\\end{matrix}\\right]$"
     },
     "execution_count": 76,
     "metadata": {},
     "output_type": "execute_result"
    }
   ],
   "source": [
    "l_max = r.T * A * r / (r.dot(r))\n",
    "l_max"
   ],
   "metadata": {
    "collapsed": false
   }
  },
  {
   "cell_type": "code",
   "execution_count": null,
   "outputs": [],
   "source": [],
   "metadata": {
    "collapsed": false
   }
  }
 ],
 "metadata": {
  "kernelspec": {
   "display_name": "Python 3",
   "language": "python",
   "name": "python3"
  },
  "language_info": {
   "codemirror_mode": {
    "name": "ipython",
    "version": 2
   },
   "file_extension": ".py",
   "mimetype": "text/x-python",
   "name": "python",
   "nbconvert_exporter": "python",
   "pygments_lexer": "ipython2",
   "version": "2.7.6"
  }
 },
 "nbformat": 4,
 "nbformat_minor": 0
}
