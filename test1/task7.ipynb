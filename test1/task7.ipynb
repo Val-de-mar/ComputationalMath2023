{
 "cells": [
  {
   "attachments": {},
   "cell_type": "markdown",
   "metadata": {},
   "source": [
    "### Задача 7"
   ]
  },
  {
   "attachments": {},
   "cell_type": "markdown",
   "metadata": {},
   "source": [
    "$$\\varphi_0(x) = x - 1/2$$\n",
    "$$\\varphi_1(x) = 1$$\n",
    "$$\\varphi(x) - лучшая\\;среднеквадратичная\\;оценка \\; f(x)$$\n",
    "$$\\varphi(x) = a_0\\varphi_0(x) + a_1\\varphi_1(x)$$\n",
    "$$так\\;как\\; \\int_0^1{\\varphi_0(x) \\varphi_1(x) dx} = 0 \\Rightarrow$$\n",
    "$$<\\varphi, \\varphi_i> = a_i <\\varphi_i, \\varphi_i> \\Rightarrow$$\n",
    "$$a_i = \\frac{<f, \\varphi_i>}{<\\varphi_i, \\varphi_i>} = \\frac{\\int_0^1{f(x) \\varphi_i(x) dx}}{\\int_0^1{\\varphi_i(x) \\varphi_i(x) dx}}$$"
   ]
  }
 ],
 "metadata": {
  "language_info": {
   "name": "python"
  },
  "orig_nbformat": 4
 },
 "nbformat": 4,
 "nbformat_minor": 2
}
