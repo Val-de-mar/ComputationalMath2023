{
 "cells": [
  {
   "cell_type": "code",
   "execution_count": 1,
   "outputs": [],
   "source": [
    "from sympy.solvers import solve\n",
    "from sympy import symbols, latex, diff\n"
   ],
   "metadata": {
    "collapsed": false
   }
  },
  {
   "cell_type": "markdown",
   "source": [
    "Для вычисления второй производной функции $f(x)$ используется формула $\\frac{f(x + 2h) - 2 f (x + h) + f(x)}{h^2}$.\n",
    "1) Какой порядок аппроксимации этой формулы?\n",
    "2) Найти оптимальный шаг дифференцирования по этой формуле в произвольной точке $x+h# для четырежды дифференцируемой функции.\n",
    "3) Оценить его численное значение для функции f(x)=cos(x+π/4) в случае использования арифметики одинарной и двойной точности."
   ],
   "metadata": {
    "collapsed": false
   }
  },
  {
   "cell_type": "markdown",
   "source": [
    "Обычный ряд Тейлора:\n",
    "\n",
    "$f{\\left(x_{0} \\right)} + \\left(x - x_{0}\\right) \\left. \\frac{d}{d \\xi_{1}} f{\\left(\\xi_{1} \\right)} \\right|_{\\substack{ \\xi_{1}=x_{0} }} + \\frac{\\left(x - x_{0}\\right)^{2} \\left. \\frac{d^{2}}{d \\xi_{1}^{2}} f{\\left(\\xi_{1} \\right)} \\right|_{\\substack{ \\xi_{1}=x_{0} }}}{2} + O\\left(\\left(x - x_{0}\\right)^{3}; x\\rightarrow x_{0}\\right)$"
   ],
   "metadata": {
    "collapsed": false
   }
  },
  {
   "cell_type": "markdown",
   "source": [
    "C заменой $x_0 = x + h$.\n",
    "\n",
    "$$\\delta \\leq | f''(x_0) - \\frac{f(x_0 + 2h) - 2 f (x_0 + h) + f(x_0)}{h^2} | = \\\\\n",
    "= | f''(x_0) - \\frac{\\left( f(x_0) + h f'(x_0) + \\frac{h^2}{2} f''(x_0) + \\frac{h^3}{6} f'''(x_0) + \\frac{h^4}{24} f^{(IV)}(x_0) \\right) - 2 f(x_0) + \\left( f(x_0) - h f'(x_0) + \\frac{h^2}{2} f''(x_0) - \\frac{h^3}{6} f'''(x_0) + \\frac{h^4}{24}f^{(IV)}(x_0) \\right) + o(h^6) }{h^2} | = \\\\\n",
    "= |\\frac{h^2}{12}f^{(IV)}(x_0) + o(h^4)|$$"
   ],
   "metadata": {
    "collapsed": false
   }
  },
  {
   "cell_type": "markdown",
   "source": [
    "Так как $h$ во второй степени, то порядок аппроксимации второй.\n",
    "Полная ошибка будет считаться по формуле $ \\varepsilon \\leq \\frac{h^2}{12} M_4 + \\frac{4 M_0 \\varepsilon_m}{h^2}$, продифференцировав по h:\n"
   ],
   "metadata": {
    "collapsed": false
   }
  },
  {
   "cell_type": "code",
   "execution_count": 2,
   "outputs": [
    {
     "data": {
      "text/plain": "'\\\\left[ - 2 \\\\cdot \\\\sqrt[4]{3} \\\\sqrt[4]{\\\\frac{E M_{0}}{M_{4}}}, \\\\  2 \\\\cdot \\\\sqrt[4]{3} \\\\sqrt[4]{\\\\frac{E M_{0}}{M_{4}}}, \\\\  - 2 \\\\cdot \\\\sqrt[4]{3} i \\\\sqrt[4]{\\\\frac{E M_{0}}{M_{4}}}, \\\\  2 \\\\cdot \\\\sqrt[4]{3} i \\\\sqrt[4]{\\\\frac{E M_{0}}{M_{4}}}\\\\right]'"
     },
     "metadata": {},
     "output_type": "display_data"
    }
   ],
   "source": [
    "M0, M4, E, h = symbols('M0,M4,E,h')\n",
    "display(latex((solve(diff(h**2 / 12 * M4 + 4 * M0 * E / h**2, h), h))))"
   ],
   "metadata": {
    "collapsed": false
   }
  },
  {
   "cell_type": "markdown",
   "source": [
    "$\\left[ - 2 \\cdot \\sqrt[4]{3} \\sqrt[4]{\\frac{E M_{0}}{M_{4}}}, \\  2 \\cdot \\sqrt[4]{3} \\sqrt[4]{\\frac{E M_{0}}{M_{4}}}, \\  - 2 \\cdot \\sqrt[4]{3} i \\sqrt[4]{\\frac{E M_{0}}{M_{4}}}, \\  2 \\cdot \\sqrt[4]{3} i \\sqrt[4]{\\frac{E M_{0}}{M_{4}}}\\right]$"
   ],
   "metadata": {
    "collapsed": false
   }
  },
  {
   "cell_type": "markdown",
   "source": [
    "В 3 задаче нас интересует ошибка машинных вычислений, которая равна $\\varepsilon_1 = 6 \\cdot 10^{-8}$ в случае одинарной точности и $\\varepsilon_2 = 1 \\cdot 10 ^ {-16}$ в случае двойной. Получим тогда для функции $f(x)=cos(x+\\pi/4)$, у которой $M_0 = M_4 = 1$:"
   ],
   "metadata": {
    "collapsed": false
   }
  },
  {
   "cell_type": "code",
   "execution_count": 3,
   "outputs": [
    {
     "name": "stdout",
     "output_type": "stream",
     "text": [
      "h1 = 0.041, h2 = 0.00026\n"
     ]
    }
   ],
   "source": [
    "h1 = 2 * 3 ** 0.25 * (6 * 1e-8 * 1 / 1) ** 0.25\n",
    "h2 = 2 * 3 ** 0.25 * (1 * 1e-16 * 1 / 1) ** 0.25\n",
    "print(f'h1 = {round(h1, 3)}, h2 = {round(h2, 5)}')"
   ],
   "metadata": {
    "collapsed": false
   }
  },
  {
   "cell_type": "code",
   "execution_count": 3,
   "outputs": [],
   "source": [],
   "metadata": {
    "collapsed": false
   }
  }
 ],
 "metadata": {
  "kernelspec": {
   "display_name": "Python 3",
   "language": "python",
   "name": "python3"
  },
  "language_info": {
   "codemirror_mode": {
    "name": "ipython",
    "version": 2
   },
   "file_extension": ".py",
   "mimetype": "text/x-python",
   "name": "python",
   "nbconvert_exporter": "python",
   "pygments_lexer": "ipython2",
   "version": "2.7.6"
  }
 },
 "nbformat": 4,
 "nbformat_minor": 0
}
