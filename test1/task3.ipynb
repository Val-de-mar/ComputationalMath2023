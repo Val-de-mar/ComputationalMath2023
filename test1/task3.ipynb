{
 "cells": [
  {
   "cell_type": "code",
   "execution_count": 1,
   "id": "4f5af7f9",
   "metadata": {},
   "outputs": [],
   "source": [
    "from sympy.matrices import Matrix\n",
    "from sympy import Rational as rat"
   ]
  },
  {
   "cell_type": "markdown",
   "id": "fff8ace3",
   "metadata": {},
   "source": [
    "### Пункт (а)"
   ]
  },
  {
   "cell_type": "markdown",
   "id": "6f141841",
   "metadata": {},
   "source": [
    "Число обусловленности $\\mu = \\|A\\| \\|A^{-1}\\|$.\n",
    "Для начала находим \n",
    "$$\\|A\\|_{1} = \\max_{j} \\sum_{i=1}^n |a_{ij}|$$\n",
    "\n",
    "$$\\|A\\|_{\\infty} = \\max_{i} \\sum_{j=1}^n |a_{ij}|$$\n",
    "\n",
    "Если матрица А положительно определена, то \n",
    "$$\\|A\\|_{E} \\approx \\max_{i} \\lambda_{i}$$\n",
    "\n",
    "Ну или ищем по определению:\n",
    "$$ \\|A\\|_{E} = \\sqrt{\\max \\lambda(A^{*}A)}  $$\n",
    "\n",
    "Аналогично находим для $A^{-1}$"
   ]
  },
  {
   "cell_type": "markdown",
   "id": "9f1ec212",
   "metadata": {},
   "source": [
    "Матрица А и ее собственные значения:"
   ]
  },
  {
   "cell_type": "code",
   "execution_count": 2,
   "id": "cec7035f",
   "metadata": {},
   "outputs": [
    {
     "data": {
      "text/latex": [
       "$\\displaystyle \\left[\\begin{matrix}3 & -4\\\\-2 & 5\\end{matrix}\\right]$"
      ],
      "text/plain": [
       "Matrix([\n",
       "[ 3, -4],\n",
       "[-2,  5]])"
      ]
     },
     "execution_count": 2,
     "metadata": {},
     "output_type": "execute_result"
    }
   ],
   "source": [
    "A = Matrix([[rat(3, 1), rat(-4, 1)], [rat(-2, 1), rat(5, 1)]])\n",
    "A"
   ]
  },
  {
   "cell_type": "code",
   "execution_count": 3,
   "id": "964ade85",
   "metadata": {},
   "outputs": [
    {
     "data": {
      "text/plain": [
       "{7: 1, 1: 1}"
      ]
     },
     "execution_count": 3,
     "metadata": {},
     "output_type": "execute_result"
    }
   ],
   "source": [
    "A.eigenvals()"
   ]
  },
  {
   "cell_type": "markdown",
   "id": "68f90934",
   "metadata": {},
   "source": [
    "Обратная матрица A и ее собственные значения:"
   ]
  },
  {
   "cell_type": "code",
   "execution_count": 4,
   "id": "f0fc3413",
   "metadata": {},
   "outputs": [
    {
     "data": {
      "text/latex": [
       "$\\displaystyle \\left[\\begin{matrix}\\frac{5}{7} & \\frac{4}{7}\\\\\\frac{2}{7} & \\frac{3}{7}\\end{matrix}\\right]$"
      ],
      "text/plain": [
       "Matrix([\n",
       "[5/7, 4/7],\n",
       "[2/7, 3/7]])"
      ]
     },
     "execution_count": 4,
     "metadata": {},
     "output_type": "execute_result"
    }
   ],
   "source": [
    "A.inv()"
   ]
  },
  {
   "cell_type": "code",
   "execution_count": 5,
   "id": "46894b10",
   "metadata": {},
   "outputs": [
    {
     "data": {
      "text/plain": [
       "{1: 1, 1/7: 1}"
      ]
     },
     "execution_count": 5,
     "metadata": {},
     "output_type": "execute_result"
    }
   ],
   "source": [
    "A.inv().eigenvals()"
   ]
  },
  {
   "cell_type": "markdown",
   "id": "6689e11c",
   "metadata": {},
   "source": [
    "Матрица $A^{*}A$ и ее собственные значения:"
   ]
  },
  {
   "cell_type": "code",
   "execution_count": 6,
   "id": "12980cdd",
   "metadata": {},
   "outputs": [
    {
     "data": {
      "text/latex": [
       "$\\displaystyle \\left[\\begin{matrix}13 & -22\\\\-22 & 41\\end{matrix}\\right]$"
      ],
      "text/plain": [
       "Matrix([\n",
       "[ 13, -22],\n",
       "[-22,  41]])"
      ]
     },
     "execution_count": 6,
     "metadata": {},
     "output_type": "execute_result"
    }
   ],
   "source": [
    "A.T * A"
   ]
  },
  {
   "cell_type": "code",
   "execution_count": 7,
   "id": "d82d2a08",
   "metadata": {},
   "outputs": [
    {
     "data": {
      "text/plain": [
       "{27 - 2*sqrt(170): 1, 2*sqrt(170) + 27: 1}"
      ]
     },
     "execution_count": 7,
     "metadata": {},
     "output_type": "execute_result"
    }
   ],
   "source": [
    "(A.T * A).eigenvals()"
   ]
  },
  {
   "cell_type": "markdown",
   "id": "62b9bfdd",
   "metadata": {},
   "source": [
    "### Пункт (б), (в), (г) "
   ]
  },
  {
   "cell_type": "markdown",
   "id": "bad8b580",
   "metadata": {},
   "source": [
    "б) Метод простых итераций:\n",
    "\n",
    "$$u^{k + 1} = Ru^k + F$$\n",
    "\n",
    "где $R = E - \\tau A$, $F = \\tau f$. Также мы можем получить область $\\tau \\in (0, \\frac{2}{\\lambda_{max}})$\n",
    "\n",
    "в) $\\tau_{опт} = \\dfrac{2}{\\lambda_{max} + \\lambda_{min}}$\n",
    "\n",
    "г) Теперь сделаем одну итерацию при $\\tau_{опт}$ и найдем $u_1$:\n",
    "\n",
    "$$u_1 = Ru_0 + F$$\n",
    "\n",
    "Потом найдем $q_{опт} = |1 - \\tau_{опт}\\lambda_{min}|$, и потом получаем неравенство:\n",
    "\n",
    "$$\\| \\epsilon_{k}\\| \\leq \\dfrac{q_{опт}^k}{1 - q_{опт}}{\\|u_1 - u_0\\|_{2}}$$\n",
    "\n",
    "Из этого неравенство получаем $k$."
   ]
  },
  {
   "cell_type": "code",
   "execution_count": null,
   "id": "361cfc57",
   "metadata": {},
   "outputs": [],
   "source": []
  }
 ],
 "metadata": {
  "kernelspec": {
   "display_name": "Python 3 (ipykernel)",
   "language": "python",
   "name": "python3"
  },
  "language_info": {
   "codemirror_mode": {
    "name": "ipython",
    "version": 3
   },
   "file_extension": ".py",
   "mimetype": "text/x-python",
   "name": "python",
   "nbconvert_exporter": "python",
   "pygments_lexer": "ipython3",
   "version": "3.9.13"
  }
 },
 "nbformat": 4,
 "nbformat_minor": 5
}
