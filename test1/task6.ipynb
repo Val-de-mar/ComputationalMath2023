{
 "cells": [
  {
   "attachments": {},
   "cell_type": "markdown",
   "metadata": {},
   "source": [
    "### Задача 6"
   ]
  },
  {
   "attachments": {},
   "cell_type": "markdown",
   "metadata": {},
   "source": [
    "| $i$ |    0|    1|    2|    3|\n",
    "|-----|-----|-----|-----|-----|\n",
    "|$x_i$|$x_0$|$x_1$|$x_2$|$x_3$|\n",
    "|$y_i$|$y_0$|$y_1$|$y_2$|$y_3$|"
   ]
  },
  {
   "attachments": {},
   "cell_type": "markdown",
   "metadata": {},
   "source": [
    "$$\\varphi(x) = ax + b$$\n",
    "$$\\Phi(a, b) = \\sum_{i}(\\varphi(x_i, a, b) - y_i)^2$$\n",
    "$$\\frac{\\partial{\\Phi(a, b)}}{\\partial{a}} = \\sum_{i}2(\\varphi(x_i, a, b) - y_i)\\frac{\\partial{\\varphi(x_i, a, b)}}{\\partial{a}} = \\sum_{i}2(ax_i + b - y_i)x_i$$\n",
    "$$\\frac{\\partial{\\Phi(a, b)}}{\\partial{b}} = \\sum_{i}2(\\varphi(x_i, a, b) - y_i)\\frac{\\partial{\\varphi(x_i, a, b)}}{\\partial{b}} = \\sum_{i}2(ax_i + b - y_i)$$"
   ]
  },
  {
   "attachments": {},
   "cell_type": "markdown",
   "metadata": {},
   "source": [
    "\n",
    "$$\\Phi(a_0, b_0) = \\min_{a, b}(\\Phi(x, a, b))\\Rightarrow$$\n",
    "$$\\frac{\\partial{\\Phi(a, b)}}{\\partial{b}} \\bigg|_{a = a_0, b = b_0} = \\frac{\\partial{\\Phi(a, b)}}{\\partial{a}} \\bigg|_{a = a_0, b = b_0} = 0 \\Rightarrow$$"
   ]
  },
  {
   "attachments": {},
   "cell_type": "markdown",
   "metadata": {},
   "source": [
    "$$0 = a\\sum_{i}x_i^2  + b\\sum{x_i} - \\sum y_ix_i$$\n",
    "$$0 = a\\sum_{i}x_i + bn - \\sum y_i$$"
   ]
  },
  {
   "cell_type": "code",
   "execution_count": 50,
   "metadata": {},
   "outputs": [],
   "source": [
    "import numpy as np\n",
    "from sympy.matrices import Matrix\n",
    "from sympy import Rational as rat\n",
    "from sympy import latex as lt\n",
    "from sympy import sympify\n",
    "import sympy as sp\n",
    "from functools import reduce\n",
    "from IPython.display import display, Math"
   ]
  },
  {
   "cell_type": "code",
   "execution_count": 12,
   "metadata": {},
   "outputs": [],
   "source": [
    "x = [0, 1, 1, 2]\n",
    "y = [-1, 2, 3, 4]"
   ]
  },
  {
   "cell_type": "code",
   "execution_count": 53,
   "metadata": {},
   "outputs": [
    {
     "data": {
      "text/latex": [
       "$\\displaystyle \\left[\\begin{matrix}6 & 4\\\\4 & 4\\end{matrix}\\right]$"
      ],
      "text/plain": [
       "Matrix([\n",
       "[6, 4],\n",
       "[4, 4]])"
      ]
     },
     "metadata": {},
     "output_type": "display_data"
    },
    {
     "data": {
      "text/latex": [
       "$\\displaystyle \\left[\\begin{matrix}13\\\\4\\end{matrix}\\right]$"
      ],
      "text/plain": [
       "Matrix([\n",
       "[13],\n",
       "[ 4]])"
      ]
     },
     "metadata": {},
     "output_type": "display_data"
    }
   ],
   "source": [
    "x = [rat(i) for i in x]\n",
    "y = [rat(i) for i in y]\n",
    "sumx = reduce(lambda i, j: i + j, x)\n",
    "sumy = reduce(lambda i, j: i + j, x)\n",
    "\n",
    "sumxx = reduce(lambda i, j: i + j, [i**2 for i in x])\n",
    "sumxy = reduce(lambda i, j: i + j, [x[i]*y[i] for i in range(len(x))])\n",
    "#0 = A(a, b)^T - k\n",
    "A = Matrix([[sumxx, sumx], [sumx, len(x)]])\n",
    "k = Matrix([[sumxy], [sumy]])\n",
    "display(A)\n",
    "display(k)"
   ]
  },
  {
   "cell_type": "code",
   "execution_count": 33,
   "metadata": {},
   "outputs": [
    {
     "data": {
      "text/latex": [
       "$\\displaystyle \\left[\\begin{matrix}a\\\\b\\end{matrix}\\right]$ = $\\left[\\begin{matrix}\\frac{9}{2}\\\\- \\frac{7}{2}\\end{matrix}\\right]$"
      ],
      "text/plain": [
       "<IPython.core.display.Math object>"
      ]
     },
     "metadata": {},
     "output_type": "display_data"
    }
   ],
   "source": [
    "ab = A.inv() * k\n",
    "a = display(Math(lt(Matrix([[\"a\"], [\"b\"]])) + \"$ = $\" + lt(ab)))"
   ]
  },
  {
   "cell_type": "code",
   "execution_count": 57,
   "metadata": {},
   "outputs": [],
   "source": [
    "xx = Matrix([[sympify(i)] for i in x])\n",
    "yy = Matrix([[sympify(i)] for i in y])"
   ]
  },
  {
   "cell_type": "code",
   "execution_count": 65,
   "metadata": {},
   "outputs": [],
   "source": [
    "deltas = yy - Matrix.hstack(xx, Matrix([[sympify(1)] for i in x])) * ab"
   ]
  },
  {
   "cell_type": "code",
   "execution_count": 77,
   "metadata": {},
   "outputs": [
    {
     "data": {
      "text/latex": [
       "$\\displaystyle \\Phi = \\frac{27}{2}$"
      ],
      "text/plain": [
       "<IPython.core.display.Math object>"
      ]
     },
     "metadata": {},
     "output_type": "display_data"
    }
   ],
   "source": [
    "display(Math(\"\\Phi = \" + lt((deltas.T * deltas)[0])))"
   ]
  }
 ],
 "metadata": {
  "kernelspec": {
   "display_name": "Python 3",
   "language": "python",
   "name": "python3"
  },
  "language_info": {
   "codemirror_mode": {
    "name": "ipython",
    "version": 3
   },
   "file_extension": ".py",
   "mimetype": "text/x-python",
   "name": "python",
   "nbconvert_exporter": "python",
   "pygments_lexer": "ipython3",
   "version": "3.10.9"
  },
  "orig_nbformat": 4
 },
 "nbformat": 4,
 "nbformat_minor": 2
}
